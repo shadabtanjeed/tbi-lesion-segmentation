{
 "cells": [
  {
   "cell_type": "markdown",
   "id": "706b1751",
   "metadata": {
    "id": "706b1751"
   },
   "source": [
    "## Setup & Imports"
   ]
  },
  {
   "cell_type": "code",
   "execution_count": null,
   "id": "FLwYEcD9oDFe",
   "metadata": {
    "colab": {
     "base_uri": "https://localhost:8080/"
    },
    "execution": {
     "iopub.execute_input": "2025-06-29T15:36:02.364202Z",
     "iopub.status.busy": "2025-06-29T15:36:02.363608Z",
     "iopub.status.idle": "2025-06-29T15:36:09.226949Z",
     "shell.execute_reply": "2025-06-29T15:36:09.226214Z",
     "shell.execute_reply.started": "2025-06-29T15:36:02.364175Z"
    },
    "id": "FLwYEcD9oDFe",
    "outputId": "c2050048-3240-49ef-d8a3-86e892da8cce",
    "trusted": true
   },
   "outputs": [],
   "source": [
    "!pip install numpy nibabel matplotlib pandas torch scipy tqdm plotly optuna SimpleITK hd-bet"
   ]
  },
  {
   "cell_type": "code",
   "execution_count": null,
   "id": "bf53e352",
   "metadata": {
    "execution": {
     "iopub.execute_input": "2025-06-29T15:36:09.228644Z",
     "iopub.status.busy": "2025-06-29T15:36:09.228392Z",
     "iopub.status.idle": "2025-06-29T15:36:12.506760Z",
     "shell.execute_reply": "2025-06-29T15:36:12.505984Z",
     "shell.execute_reply.started": "2025-06-29T15:36:09.228622Z"
    },
    "id": "bf53e352",
    "trusted": true
   },
   "outputs": [],
   "source": [
    "import os\n",
    "import numpy as np\n",
    "import nibabel as nib\n",
    "import matplotlib.pyplot as plt\n",
    "import pandas as pd\n",
    "import torch\n",
    "from scipy.ndimage import zoom\n",
    "from tqdm import tqdm\n",
    "import torch.nn.functional as F\n",
    "from matplotlib.widgets import Slider\n",
    "import plotly.graph_objects as go\n",
    "from torch.utils.data import Dataset\n",
    "from torch.utils.data import DataLoader, random_split\n",
    "import torch.nn as nn\n",
    "from torch.optim import Adam\n",
    "from concurrent.futures import ThreadPoolExecutor, as_completed\n",
    "\n",
    "from scipy.ndimage import rotate\n",
    "import optuna\n",
    "\n",
    "from optuna.pruners import MedianPruner\n",
    "from torch.cuda.amp import autocast, GradScaler\n",
    "\n",
    "import SimpleITK as sitk\n",
    "\n",
    "import subprocess\n",
    "\n",
    "from tqdm import tqdm"
   ]
  },
  {
   "cell_type": "markdown",
   "id": "e3af37c0",
   "metadata": {
    "id": "e3af37c0"
   },
   "source": [
    "## Load NIfTI Files"
   ]
  },
  {
   "cell_type": "code",
   "execution_count": null,
   "id": "e82733ce",
   "metadata": {
    "colab": {
     "base_uri": "https://localhost:8080/"
    },
    "execution": {
     "iopub.execute_input": "2025-06-29T15:36:12.513821Z",
     "iopub.status.busy": "2025-06-29T15:36:12.513507Z",
     "iopub.status.idle": "2025-06-29T15:36:12.574413Z",
     "shell.execute_reply": "2025-06-29T15:36:12.573653Z",
     "shell.execute_reply.started": "2025-06-29T15:36:12.513802Z"
    },
    "id": "e82733ce",
    "outputId": "cd02393f-01fa-42fc-8b8c-fe0ddf2dfe16",
    "trusted": true
   },
   "outputs": [],
   "source": [
    "# Define data path and list NIfTI (.nii) files\n",
    "data_path = \"F:/AIMS_TBI_Lesion_Segmentation/ChallengeFiles\"\n",
    "file_list = sorted([f for f in os.listdir(data_path) if f.endswith('.nii')])\n",
    "\n",
    "print(f\"Found {len(file_list)} nii files\")\n",
    "print(file_list[:10])\n"
   ]
  },
  {
   "cell_type": "markdown",
   "id": "a11f1f66",
   "metadata": {
    "id": "a11f1f66"
   },
   "source": [
    "## Read Sample NIfTI File"
   ]
  },
  {
   "cell_type": "markdown",
   "id": "AeXMRGh-K2IN",
   "metadata": {
    "id": "AeXMRGh-K2IN"
   },
   "source": [
    "- .nii file are 3d images\n",
    "- consider slices as the 2d images stacked together to create a 3d one"
   ]
  },
  {
   "cell_type": "code",
   "execution_count": null,
   "id": "e0545875",
   "metadata": {
    "colab": {
     "base_uri": "https://localhost:8080/"
    },
    "execution": {
     "iopub.execute_input": "2025-06-29T15:36:12.575545Z",
     "iopub.status.busy": "2025-06-29T15:36:12.575304Z",
     "iopub.status.idle": "2025-06-29T15:36:12.854963Z",
     "shell.execute_reply": "2025-06-29T15:36:12.854345Z",
     "shell.execute_reply.started": "2025-06-29T15:36:12.575526Z"
    },
    "id": "e0545875",
    "outputId": "09cd5b7e-6a39-4b13-e131-18f4b72d4f21",
    "trusted": true
   },
   "outputs": [],
   "source": [
    "# Load a sample NIfTI file\n",
    "nii_file = os.path.join(data_path, file_list[1])\n",
    "img = nib.load(nii_file)\n",
    "img_data = img.get_fdata()\n",
    "\n",
    "print(f\"Loaded file: {file_list[1]}\")\n",
    "print(f\"Image shape: {img_data.shape}\")"
   ]
  },
  {
   "cell_type": "markdown",
   "id": "SrPushiOMA5Y",
   "metadata": {
    "id": "SrPushiOMA5Y"
   },
   "source": [
    "### VIsualizing Slices\n",
    "\n",
    "Medical image slices (like MRI or CT scans) are displayed in grayscale, where pixel values are mapped to shades from black (low intensity) to white (high intensity).\n",
    "\n",
    "*   **Black Areas:** Typically represent regions with very low signal intensity. This includes the background (air), air-filled cavities, and certain tissue types depending on the scan method (e.g., bone or CSF in some MRI sequences, air in CT).\n",
    "*   **White/Brighter Areas:** Represent regions with high signal intensity. This includes dense tissues (like bone in CT), certain tissue properties in MRI (like fat in T1-weighted or fluid/edema in T2-weighted), or areas with contrast agent uptake.\n",
    "\n",
    "The contrast between dark and bright areas helps visualize"
   ]
  },
  {
   "cell_type": "code",
   "execution_count": null,
   "id": "f89316c8",
   "metadata": {
    "colab": {
     "base_uri": "https://localhost:8080/",
     "height": 231
    },
    "execution": {
     "iopub.execute_input": "2025-06-29T15:36:12.856002Z",
     "iopub.status.busy": "2025-06-29T15:36:12.855755Z",
     "iopub.status.idle": "2025-06-29T15:36:13.335056Z",
     "shell.execute_reply": "2025-06-29T15:36:13.334401Z",
     "shell.execute_reply.started": "2025-06-29T15:36:12.855976Z"
    },
    "id": "f89316c8",
    "outputId": "22285bc2-33d7-491e-a94e-f5af297532e6",
    "trusted": true
   },
   "outputs": [],
   "source": [
    "num_slices = 5\n",
    "fig, axes = plt.subplots(1, num_slices, figsize=(15, 5))\n",
    "\n",
    "# Random unique slice indices from the axial dimension (depth)\n",
    "slice_indices = np.random.choice(img_data.shape[2], size=num_slices, replace=False)\n",
    "slice_indices = np.sort(slice_indices)\n",
    "\n",
    "for i, slice_idx in enumerate(slice_indices):\n",
    "    slice_img = img_data[:, :, slice_idx].T\n",
    "    axes[i].imshow(slice_img, cmap='gray', origin='lower')\n",
    "    axes[i].set_title(f\"Slice {slice_idx}\")\n",
    "    axes[i].axis('off')\n",
    "\n",
    "plt.show()"
   ]
  },
  {
   "cell_type": "markdown",
   "id": "VI1gOqmFMZF1",
   "metadata": {
    "id": "VI1gOqmFMZF1"
   },
   "source": [
    "### Visualizing T1 Image with Lesion Mask\n",
    "\n",
    "This code block loads both a T1-weighted MRI image and its corresponding lesion segmentation mask for the same scan. It then displays a series of slices from a specified range, overlaying the lesion mask on top of the T1 image to highlight the location and extent of the lesion."
   ]
  },
  {
   "cell_type": "code",
   "execution_count": null,
   "id": "64976d19",
   "metadata": {
    "colab": {
     "base_uri": "https://localhost:8080/",
     "height": 438
    },
    "execution": {
     "iopub.execute_input": "2025-06-29T15:36:13.335908Z",
     "iopub.status.busy": "2025-06-29T15:36:13.335703Z",
     "iopub.status.idle": "2025-06-29T15:36:15.406989Z",
     "shell.execute_reply": "2025-06-29T15:36:15.406149Z",
     "shell.execute_reply.started": "2025-06-29T15:36:13.335892Z"
    },
    "id": "64976d19",
    "outputId": "4ab74e9b-0417-49c4-d5a0-052df5d4be16",
    "trusted": true
   },
   "outputs": [],
   "source": [
    "# Load both the T1 image and the Lesion mask\n",
    "t1_file = os.path.join(data_path, 'scan_0001_T1.nii')\n",
    "lesion_file = os.path.join(data_path, 'scan_0001_Lesion.nii')\n",
    "\n",
    "t1_img = nib.load(t1_file).get_fdata()\n",
    "lesion_img = nib.load(lesion_file).get_fdata()\n",
    "\n",
    "# User-defined slice range\n",
    "start_slice = 110\n",
    "num_slices = 10\n",
    "\n",
    "# Create subplots\n",
    "fig, axes = plt.subplots(2, 5, figsize=(20, 8))\n",
    "axes = axes.flatten()\n",
    "\n",
    "for i in range(num_slices):\n",
    "    slice_idx = start_slice + i\n",
    "    t1_slice = t1_img[:, :, slice_idx].T\n",
    "    lesion_slice = lesion_img[:, :, slice_idx].T\n",
    "\n",
    "    axes[i].imshow(t1_slice, cmap='gray', origin='lower')\n",
    "    axes[i].imshow(lesion_slice, cmap='Reds', alpha=0.6, origin='lower')\n",
    "    axes[i].set_title(f\"Slice {slice_idx}\")\n",
    "    axes[i].axis('off')\n",
    "\n",
    "plt.tight_layout()\n",
    "plt.show()\n"
   ]
  },
  {
   "cell_type": "markdown",
   "id": "wM92nmx0Mn0D",
   "metadata": {
    "id": "wM92nmx0Mn0D"
   },
   "source": [
    "### Visualizing Coronal and Sagittal Slices\n",
    "\n",
    "This code block demonstrates how to extract and visualize slices from the 3D image data (`img_data`) along planes other than the standard axial view. Specifically, it shows how to display a coronal slice and a sagittal slice from the middle of the image volume.\n",
    "\n",
    "*   Medical 3D images can be viewed as stacks of 2D slices along different orientations:\n",
    "    *   **Axial (or Transverse) slices:** Imagine slicing the body horizontally, like slicing a loaf of bread. These separate the top from the bottom.\n",
    "    *   **Coronal slices:** Imagine slicing the body vertically from side-to-side, separating the front (anterior) from the back (posterior). This code visualizes a coronal slice.\n",
    "    *   **Sagittal slices:** Imagine slicing the body vertically from front to back, separating the left side from the right side. This code visualizes a sagittal slice."
   ]
  },
  {
   "attachments": {
    "image.png": {
     "image/png": "[encoded data removed]"
    }
   },
   "cell_type": "markdown",
   "id": "8eca40b6",
   "metadata": {},
   "source": [
    "![image.png](attachment:image.png)"
   ]
  },
  {
   "cell_type": "code",
   "execution_count": null,
   "id": "0aadaa4c",
   "metadata": {
    "colab": {
     "base_uri": "https://localhost:8080/",
     "height": 839
    },
    "execution": {
     "iopub.execute_input": "2025-06-29T15:36:15.408240Z",
     "iopub.status.busy": "2025-06-29T15:36:15.407971Z",
     "iopub.status.idle": "2025-06-29T15:36:15.577781Z",
     "shell.execute_reply": "2025-06-29T15:36:15.577001Z",
     "shell.execute_reply.started": "2025-06-29T15:36:15.408218Z"
    },
    "id": "0aadaa4c",
    "outputId": "4d142121-2618-40ca-c491-bd9d1569e383",
    "trusted": true
   },
   "outputs": [],
   "source": [
    "# Coronal slice (YZ plane)\n",
    "slice_idx = img_data.shape[0] // 2\n",
    "coronal_slice = img_data[slice_idx, :, :].T\n",
    "plt.imshow(coronal_slice, cmap='gray', origin='lower')\n",
    "plt.title(f\"Coronal slice {slice_idx}\")\n",
    "plt.axis('off')\n",
    "plt.show()\n",
    "\n",
    "# Sagittal slice (XZ plane)\n",
    "slice_idx = img_data.shape[1] // 2\n",
    "sagittal_slice = img_data[:, slice_idx, :].T\n",
    "plt.imshow(sagittal_slice, cmap='gray', origin='lower')\n",
    "plt.title(f\"Sagittal slice {slice_idx}\")\n",
    "plt.axis('off')\n",
    "plt.show()\n"
   ]
  },
  {
   "cell_type": "markdown",
   "id": "zvZ65pHeMw86",
   "metadata": {
    "id": "zvZ65pHeMw86"
   },
   "source": [
    "### Image Intensity Distribution and Non-Zero Voxels\n",
    "\n",
    "- This code block analyzes the distribution of intensity values within the entire 3D image and calculates the proportion of voxels (3D pixels) that have non-zero intensity values.\n",
    "- This helps understand the overall characteristics of the image data, such as the range of intensities present and how much of the image volume is not just background."
   ]
  },
  {
   "cell_type": "code",
   "execution_count": null,
   "id": "f9fe72ac",
   "metadata": {
    "colab": {
     "base_uri": "https://localhost:8080/",
     "height": 470
    },
    "execution": {
     "iopub.execute_input": "2025-06-29T15:36:15.578785Z",
     "iopub.status.busy": "2025-06-29T15:36:15.578529Z",
     "iopub.status.idle": "2025-06-29T15:36:16.556528Z",
     "shell.execute_reply": "2025-06-29T15:36:16.555778Z",
     "shell.execute_reply.started": "2025-06-29T15:36:15.578768Z"
    },
    "id": "f9fe72ac",
    "outputId": "32b90a6d-9953-4f2c-f072-a7f51cd1064b",
    "trusted": true
   },
   "outputs": [],
   "source": [
    "def get_lesion_percentage(lesion_path):\n",
    "    lesion_img = nib.load(lesion_path).get_fdata()\n",
    "    lesion_voxels = np.count_nonzero(lesion_img)\n",
    "    total_voxels = lesion_img.size\n",
    "    return lesion_voxels, total_voxels\n",
    "\n",
    "# List all lesion files\n",
    "lesion_files = sorted([f for f in os.listdir(data_path) if f.endswith('_Lesion.nii')])\n",
    "\n",
    "# Overall percentage\n",
    "total_lesion_voxels = 0\n",
    "total_voxels = 0\n",
    "for lesion_file in lesion_files:\n",
    "    lesion_path = os.path.join(data_path, lesion_file)\n",
    "    lesion_vox, vox = get_lesion_percentage(lesion_path)\n",
    "    total_lesion_voxels += lesion_vox\n",
    "    total_voxels += vox\n",
    "overall_percentage = 100 * total_lesion_voxels / total_voxels\n",
    "print(f\"Overall lesion percentage: {overall_percentage:.2f}%\")\n",
    "\n",
    "# Per-scan percentage for a given range\n",
    "start_idx = 10  # Change as needed\n",
    "num_scans = 5  # Change as needed\n",
    "for i in range(start_idx, min(start_idx + num_scans, len(lesion_files))):\n",
    "    lesion_file = lesion_files[i]\n",
    "    lesion_path = os.path.join(data_path, lesion_file)\n",
    "    lesion_vox, vox = get_lesion_percentage(lesion_path)\n",
    "    percentage = 100 * lesion_vox / vox\n",
    "    print(f\"{lesion_file}: {percentage:.2f}% lesion voxels\")"
   ]
  },
  {
   "cell_type": "markdown",
   "id": "_eNSxk6rRBjR",
   "metadata": {
    "id": "_eNSxk6rRBjR"
   },
   "source": [
    "## Preprocessing pipeline"
   ]
  },
  {
   "cell_type": "markdown",
   "id": "a21add16",
   "metadata": {},
   "source": [
    "### Look for noise scans (!!!SKIP THIS STEP!!!)"
   ]
  },
  {
   "cell_type": "markdown",
   "id": "52fce63f",
   "metadata": {},
   "source": [
    "First visualize some scans"
   ]
  },
  {
   "cell_type": "code",
   "execution_count": null,
   "id": "db44b384",
   "metadata": {},
   "outputs": [],
   "source": [
    "start_idx = 0  \n",
    "num_scans = 5  \n",
    "\n",
    "t1_files = sorted([f for f in os.listdir(data_path) if f.endswith('_T1.nii')])\n",
    "\n",
    "for i in range(start_idx, min(start_idx + num_scans, len(t1_files))):\n",
    "    t1_file = t1_files[i]\n",
    "    t1_path = os.path.join(data_path, t1_file)\n",
    "    t1_img = nib.load(t1_path).get_fdata()\n",
    "    \n",
    "    # Show central slice in each plane (axial, coronal, sagittal)\n",
    "    fig, axes = plt.subplots(1, 3, figsize=(15, 5))\n",
    "    axes[0].imshow(t1_img[:, :, t1_img.shape[2] // 2].T, cmap='gray', origin='lower')\n",
    "    axes[0].set_title(f'Axial (Z={t1_img.shape[2] // 2})')\n",
    "    axes[0].axis('off')\n",
    "    \n",
    "    axes[1].imshow(t1_img[t1_img.shape[0] // 2, :, :].T, cmap='gray', origin='lower')\n",
    "    axes[1].set_title(f'Coronal (X={t1_img.shape[0] // 2})')\n",
    "    axes[1].axis('off')\n",
    "    \n",
    "    axes[2].imshow(t1_img[:, t1_img.shape[1] // 2, :].T, cmap='gray', origin='lower')\n",
    "    axes[2].set_title(f'Sagittal (Y={t1_img.shape[1] // 2})')\n",
    "    axes[2].axis('off')\n",
    "    \n",
    "    plt.suptitle(f\"T1 scan: {t1_file}\")\n",
    "    plt.tight_layout()"
   ]
  },
  {
   "cell_type": "markdown",
   "id": "610269ca",
   "metadata": {},
   "source": [
    "Use MRQY to find stats about the scans"
   ]
  },
  {
   "cell_type": "code",
   "execution_count": null,
   "id": "4a472ae0",
   "metadata": {},
   "outputs": [],
   "source": [
    "# output_folder = 'mrqy_results'\n",
    "# os.makedirs(output_folder, exist_ok=True)\n",
    "\n",
    "# # Only include T1 scans for MRQY QC\n",
    "# t1_files = sorted([f for f in os.listdir(data_path) if f.endswith('_T1.nii')])\n",
    "# t1_paths = [os.path.join(data_path, f) for f in t1_files]\n",
    "\n",
    "# print(\"Running MRQy on selected T1 scans...\")\n",
    "\n",
    "# for t1_path in t1_paths:\n",
    "#     print(f\"Processing: {os.path.basename(t1_path)}\")\n",
    "#     cmd = [\"python\", \"-m\", \"mrqy.QC\", output_folder, t1_path]\n",
    "#     result = subprocess.run(cmd, capture_output=True, text=True)\n",
    "#     print(result.stdout)\n",
    "#     if result.stderr:\n",
    "#         print(\"Warnings/errors:\")\n",
    "#         print(result.stderr)\n",
    "\n",
    "# print(f\"\\nMRQy results saved in folder: {output_folder}\")"
   ]
  },
  {
   "cell_type": "markdown",
   "id": "132a8828",
   "metadata": {},
   "source": [
    "### Bias field correction"
   ]
  },
  {
   "cell_type": "markdown",
   "id": "83e9b85f",
   "metadata": {},
   "source": [
    "Function for bias field correction using SimpleITK."
   ]
  },
  {
   "cell_type": "code",
   "execution_count": null,
   "id": "0c37124f",
   "metadata": {},
   "outputs": [],
   "source": [
    "def bias_field_correction(input_path, output_path=None):\n",
    "    \"\"\"\n",
    "    Perform N4 bias field correction on a NIfTI image.\n",
    "    \n",
    "    Parameters:\n",
    "    input_path (str): Path to input NIfTI file\n",
    "    output_path (str): Path to save corrected image (optional)\n",
    "    \n",
    "    Returns:\n",
    "    numpy.ndarray: Bias-corrected image data\n",
    "    \"\"\"\n",
    "    # Read the image\n",
    "    image = sitk.ReadImage(input_path)\n",
    "    \n",
    "    # Convert to float32 for processing\n",
    "    image = sitk.Cast(image, sitk.sitkFloat32)\n",
    "    \n",
    "    # Create mask (optional - helps with convergence)\n",
    "    # Use Otsu thresholding to create a brain mask\n",
    "    otsu_filter = sitk.OtsuThresholdImageFilter()\n",
    "    otsu_filter.SetInsideValue(0)\n",
    "    otsu_filter.SetOutsideValue(1)\n",
    "    mask = otsu_filter.Execute(image)\n",
    "\n",
    "    # Apply N4 bias field correction\n",
    "    corrector = sitk.N4BiasFieldCorrectionImageFilter()\n",
    "    corrector.SetMaximumNumberOfIterations([4] * 4) \n",
    "    corrected_image = corrector.Execute(image, mask)\n",
    "    \n",
    "    # Save corrected image if output path provided\n",
    "    if output_path:\n",
    "        sitk.WriteImage(corrected_image, output_path)\n",
    "        print(f\"Bias-corrected image saved to: {output_path}\")\n",
    "    \n",
    "    # Convert back to numpy array\n",
    "    corrected_array = sitk.GetArrayFromImage(corrected_image)\n",
    "    \n",
    "    return corrected_array"
   ]
  },
  {
   "cell_type": "markdown",
   "id": "3543c913",
   "metadata": {},
   "source": [
    "Apply bias field correction to all the scans in the directory"
   ]
  },
  {
   "cell_type": "code",
   "execution_count": null,
   "id": "f1cddeb6",
   "metadata": {},
   "outputs": [],
   "source": [
    "# Create output directory for corrected images\n",
    "corrected_output_dir = os.path.join(data_path, \"corrected_T1_scans\")\n",
    "os.makedirs(corrected_output_dir, exist_ok=True)\n",
    "\n",
    "# Get all T1 files\n",
    "t1_files = sorted([f for f in os.listdir(data_path) if f.endswith('_T1.nii')])\n",
    "\n",
    "# Limit to first 15 images only\n",
    "t1_files = t1_files[:15]\n",
    "\n",
    "print(f\"Found {len(t1_files)} T1 scans to process\")\n",
    "\n",
    "# Process each T1 scan\n",
    "for t1_file in tqdm(t1_files, desc=\"Processing T1 scans\"):\n",
    "    input_path = os.path.join(data_path, t1_file)\n",
    "\n",
    "    # Create output filename (add \"bias_corrected\" before file extension)\n",
    "    base_name = t1_file.replace('.nii', '')\n",
    "    output_filename = f\"{base_name}_bias_corrected.nii\"\n",
    "    output_path = os.path.join(corrected_output_dir, output_filename)\n",
    "    \n",
    "    # Skip if corrected file already exists\n",
    "    if os.path.exists(output_path):\n",
    "        print(f\"⏭️ Skipping {t1_file} - corrected file already exists\")\n",
    "        continue\n",
    "    \n",
    "    try:\n",
    "        print(f\"Processing: {t1_file}\")\n",
    "        corrected_data = bias_field_correction(input_path, output_path)\n",
    "        print(f\"✓ Completed: {output_filename}\")\n",
    "    except Exception as e:\n",
    "        print(f\"✗ Error processing {t1_file}: {str(e)}\")\n",
    "\n",
    "print(f\"\\nBias field correction completed. Corrected images saved to: {corrected_output_dir}\")"
   ]
  },
  {
   "cell_type": "markdown",
   "id": "8b0d1681",
   "metadata": {},
   "source": [
    "Visualize the impact of bias correction"
   ]
  },
  {
   "cell_type": "code",
   "execution_count": null,
   "id": "ddcc98df",
   "metadata": {},
   "outputs": [],
   "source": [
    "def visualize_bias_correction_comparison(original_path, corrected_path, slice_idx=None):\n",
    "    \"\"\"\n",
    "    Compare original and bias-corrected images side by side\n",
    "    \"\"\"\n",
    "    # Load images\n",
    "    original_img = nib.load(original_path).get_fdata()\n",
    "    corrected_img = nib.load(corrected_path).get_fdata()\n",
    "    \n",
    "    # Use middle slice if not specified\n",
    "    if slice_idx is None:\n",
    "        slice_idx = original_img.shape[2] // 2\n",
    "    \n",
    "    # Extract slices\n",
    "    original_slice = original_img[:, :, slice_idx].T\n",
    "    corrected_slice = corrected_img[:, :, slice_idx].T\n",
    "    \n",
    "    # Create comparison plot\n",
    "    fig, axes = plt.subplots(2, 3, figsize=(18, 12))\n",
    "    \n",
    "    # Original image - different views\n",
    "    axes[0, 0].imshow(original_img[:, :, slice_idx].T, cmap='gray', origin='lower')\n",
    "    axes[0, 0].set_title(f'Original - Axial (slice {slice_idx})')\n",
    "    axes[0, 0].axis('off')\n",
    "    \n",
    "    axes[0, 1].imshow(original_img[original_img.shape[0]//2, :, :].T, cmap='gray', origin='lower')\n",
    "    axes[0, 1].set_title('Original - Coronal')\n",
    "    axes[0, 1].axis('off')\n",
    "    \n",
    "    axes[0, 2].imshow(original_img[:, original_img.shape[1]//2, :].T, cmap='gray', origin='lower')\n",
    "    axes[0, 2].set_title('Original - Sagittal')\n",
    "    axes[0, 2].axis('off')\n",
    "    \n",
    "    # Corrected image - different views  \n",
    "    axes[1, 0].imshow(corrected_img[:, :, slice_idx].T, cmap='gray', origin='lower')\n",
    "    axes[1, 0].set_title(f'Bias Corrected - Axial (slice {slice_idx})')\n",
    "    axes[1, 0].axis('off')\n",
    "    \n",
    "    axes[1, 1].imshow(corrected_img[corrected_img.shape[0]//2, :, :].T, cmap='gray', origin='lower')\n",
    "    axes[1, 1].set_title('Bias Corrected - Coronal')\n",
    "    axes[1, 1].axis('off')\n",
    "    \n",
    "    axes[1, 2].imshow(corrected_img[:, corrected_img.shape[1]//2, :].T, cmap='gray', origin='lower')\n",
    "    axes[1, 2].set_title('Bias Corrected - Sagittal')\n",
    "    axes[1, 2].axis('off')\n",
    "    \n",
    "    plt.tight_layout()\n",
    "    plt.show()\n",
    "    \n",
    "    # Plot intensity histograms for comparison\n",
    "    fig, axes = plt.subplots(1, 2, figsize=(15, 5))\n",
    "    \n",
    "    # Original histogram\n",
    "    axes[0].hist(original_img[original_img > 0].flatten(), bins=100, alpha=0.7, color='blue', density=True)\n",
    "    axes[0].set_title('Original Image - Intensity Distribution')\n",
    "    axes[0].set_xlabel('Intensity')\n",
    "    axes[0].set_ylabel('Density')\n",
    "    \n",
    "    # Corrected histogram\n",
    "    axes[1].hist(corrected_img[corrected_img > 0].flatten(), bins=100, alpha=0.7, color='red', density=True)\n",
    "    axes[1].set_title('Bias Corrected Image - Intensity Distribution')\n",
    "    axes[1].set_xlabel('Intensity')\n",
    "    axes[1].set_ylabel('Density')\n",
    "    \n",
    "    plt.tight_layout()\n",
    "    plt.show()"
   ]
  },
  {
   "cell_type": "code",
   "execution_count": null,
   "id": "ec319762",
   "metadata": {},
   "outputs": [],
   "source": [
    "def evaluate_bias_correction_quality(original_path, corrected_path):\n",
    "    \"\"\"\n",
    "    Evaluate the quality of bias field correction using quantitative metrics\n",
    "    \"\"\"\n",
    "    # Load images\n",
    "    original_img = nib.load(original_path).get_fdata()\n",
    "    corrected_img = nib.load(corrected_path).get_fdata()\n",
    "    \n",
    "    # Create brain mask (non-zero voxels)\n",
    "    brain_mask = original_img > 0\n",
    "    \n",
    "    # Calculate metrics\n",
    "    original_brain = original_img[brain_mask]\n",
    "    corrected_brain = corrected_img[brain_mask]\n",
    "    \n",
    "    # 1. Coefficient of Variation (CV) - lower is better\n",
    "    original_cv = np.std(original_brain) / np.mean(original_brain)\n",
    "    corrected_cv = np.std(corrected_brain) / np.mean(corrected_brain)\n",
    "    \n",
    "    # 2. Signal-to-Noise Ratio improvement\n",
    "    original_snr = np.mean(original_brain) / np.std(original_brain)\n",
    "    corrected_snr = np.mean(corrected_brain) / np.std(corrected_brain)\n",
    "    \n",
    "    # 3. Intensity uniformity in homogeneous regions\n",
    "    # Use central region as proxy for white matter\n",
    "    center_z = original_img.shape[2] // 2\n",
    "    center_region = original_img[80:120, 80:120, center_z-5:center_z+5]\n",
    "    center_region_corrected = corrected_img[80:120, 80:120, center_z-5:center_z+5]\n",
    "    \n",
    "    center_region = center_region[center_region > 0]\n",
    "    center_region_corrected = center_region_corrected[center_region_corrected > 0]\n",
    "    \n",
    "    original_uniformity = np.std(center_region) / np.mean(center_region) if len(center_region) > 0 else 0\n",
    "    corrected_uniformity = np.std(center_region_corrected) / np.mean(center_region_corrected) if len(center_region_corrected) > 0 else 0\n",
    "    \n",
    "    print(\"=== Bias Correction Quality Assessment ===\")\n",
    "    print(f\"Coefficient of Variation (CV):\")\n",
    "    print(f\"  Original: {original_cv:.4f}\")\n",
    "    print(f\"  Corrected: {corrected_cv:.4f}\")\n",
    "    print(f\"  Improvement: {((original_cv - corrected_cv) / original_cv * 100):.2f}%\")\n",
    "    print()\n",
    "    \n",
    "    print(f\"Signal-to-Noise Ratio (SNR):\")\n",
    "    print(f\"  Original: {original_snr:.4f}\")\n",
    "    print(f\"  Corrected: {corrected_snr:.4f}\")\n",
    "    print(f\"  Improvement: {((corrected_snr - original_snr) / original_snr * 100):.2f}%\")\n",
    "    print()\n",
    "    \n",
    "    print(f\"Regional Uniformity (Central Region CV):\")\n",
    "    print(f\"  Original: {original_uniformity:.4f}\")\n",
    "    print(f\"  Corrected: {corrected_uniformity:.4f}\")\n",
    "    print(f\"  Improvement: {((original_uniformity - corrected_uniformity) / original_uniformity * 100):.2f}%\")\n",
    "    \n",
    "    # Overall assessment\n",
    "    print(\"\\n=== Overall Assessment ===\")\n",
    "    improvements = 0\n",
    "    if corrected_cv < original_cv:\n",
    "        improvements += 1\n",
    "        print(\"✓ Reduced coefficient of variation\")\n",
    "    if corrected_snr > original_snr:\n",
    "        improvements += 1\n",
    "        print(\"✓ Improved signal-to-noise ratio\")\n",
    "    if corrected_uniformity < original_uniformity:\n",
    "        improvements += 1\n",
    "        print(\"✓ Improved regional uniformity\")\n",
    "    \n",
    "    if improvements >= 2:\n",
    "        print(\"🎉 Bias correction appears SUCCESSFUL!\")\n",
    "    elif improvements == 1:\n",
    "        print(\"⚠️ Bias correction shows MODERATE improvement\")\n",
    "    else:\n",
    "        print(\"❌ Bias correction may have FAILED or made things worse\")\n",
    "\n"
   ]
  },
  {
   "cell_type": "code",
   "execution_count": null,
   "id": "bc951ed0",
   "metadata": {},
   "outputs": [],
   "source": [
    "# Example usage for first corrected image\n",
    "t1_files = sorted([f for f in os.listdir(data_path) if f.endswith('_T1.nii')])\n",
    "\n",
    "idx = 12\n",
    "\n",
    "if t1_files:\n",
    "    original_file = os.path.join(data_path, t1_files[idx])\n",
    "    corrected_file = os.path.join(corrected_output_dir, t1_files[idx].replace('.nii', '_bias_corrected.nii'))\n",
    "    \n",
    "    if os.path.exists(corrected_file):\n",
    "        print(f\"Comparing: {t1_files[idx]}\")\n",
    "        visualize_bias_correction_comparison(original_file, corrected_file)\n",
    "        evaluate_bias_correction_quality(original_file, corrected_file)\n",
    "    else:\n",
    "        print(\"Corrected file not found. Run bias correction first.\")"
   ]
  },
  {
   "cell_type": "markdown",
   "id": "28a70905",
   "metadata": {},
   "source": [
    "### Skull Stripping using HD-BET"
   ]
  },
  {
   "cell_type": "markdown",
   "id": "33585c03",
   "metadata": {},
   "source": [
    "Define the function to perform skull stripping using HD-BET."
   ]
  },
  {
   "cell_type": "code",
   "execution_count": null,
   "id": "4f17b835",
   "metadata": {},
   "outputs": [],
   "source": [
    "def skull_strip_with_hdbet(input_path, output_path, use_gpu=True, mode=\"fast\"):\n",
    "    \"\"\"\n",
    "    Perform skull stripping using HD-BET\n",
    "    \n",
    "    Parameters:\n",
    "    input_path (str): Path to input NIfTI file\n",
    "    output_path (str): Path to save skull-stripped image\n",
    "    use_gpu (bool): Whether to use GPU acceleration\n",
    "    mode (str): Processing mode - \"fast\" or \"accurate\"\n",
    "    \n",
    "    Returns:\n",
    "    bool: True if successful, False otherwise\n",
    "    \"\"\"\n",
    "    try:\n",
    "        # HD-BET command\n",
    "        cmd = [\"hd-bet\", \"-i\", input_path, \"-o\", output_path]\n",
    "        \n",
    "        # Add GPU flag if available\n",
    "        if use_gpu:\n",
    "            cmd.extend([\"-device\", \"gpu\"])\n",
    "        else:\n",
    "            cmd.extend([\"-device\", \"cpu\"])\n",
    "        \n",
    "        # Add mode flag\n",
    "        if mode == \"fast\":\n",
    "            cmd.extend([\"-mode\", \"fast\"])\n",
    "        elif mode == \"accurate\":\n",
    "            cmd.extend([\"-mode\", \"accurate\"])\n",
    "        else:\n",
    "            print(f\"Warning: Unknown mode '{mode}', using default\")\n",
    "        \n",
    "        # Run HD-BET\n",
    "        result = subprocess.run(cmd, capture_output=True, text=True, check=True)\n",
    "        \n",
    "        print(f\"✓ Skull stripping completed ({mode} mode): {os.path.basename(output_path)}\")\n",
    "        return True\n",
    "        \n",
    "    except subprocess.CalledProcessError as e:\n",
    "        print(f\"✗ Error during skull stripping: {e}\")\n",
    "        print(f\"Error output: {e.stderr}\")\n",
    "        return False\n",
    "    except Exception as e:\n",
    "        print(f\"✗ Unexpected error: {str(e)}\")\n",
    "        return False"
   ]
  },
  {
   "cell_type": "code",
   "execution_count": null,
   "id": "baf3e1e1",
   "metadata": {},
   "outputs": [],
   "source": [
    "# Create output directory for skull-stripped images\n",
    "skull_stripped_output_dir = os.path.join(data_path, \"skull_stripped_T1_scans\")\n",
    "os.makedirs(skull_stripped_output_dir, exist_ok=True)\n",
    "\n",
    "# Get all bias-corrected files\n",
    "corrected_files = sorted([f for f in os.listdir(corrected_output_dir) if f.endswith('_bias_corrected.nii')])\n",
    "\n",
    "print(f\"Found {len(corrected_files)} bias-corrected T1 scans to process\")\n",
    "\n",
    "# Check GPU availability\n",
    "gpu_available = torch.cuda.is_available()\n",
    "print(f\"GPU available: {gpu_available}\")\n",
    "\n",
    "# Process each bias-corrected scan\n",
    "successful_count = 0\n",
    "failed_count = 0\n",
    "\n",
    "for corrected_file in tqdm(corrected_files, desc=\"Skull stripping T1 scans\"):\n",
    "    input_path = os.path.join(corrected_output_dir, corrected_file)\n",
    "    \n",
    "    # Create output filename (replace \"bias_corrected\" with \"skull_stripped\")\n",
    "    base_name = corrected_file.replace('_bias_corrected.nii', '')\n",
    "    output_filename = f\"{base_name}_skull_stripped.nii.gz\"  # HD-BET outputs .nii.gz\n",
    "    output_path = os.path.join(skull_stripped_output_dir, output_filename)\n",
    "    \n",
    "    # Skip if skull-stripped file already exists\n",
    "    if os.path.exists(output_path):\n",
    "        print(f\"⏭️ Skipping {corrected_file} - skull-stripped file already exists\")\n",
    "        continue\n",
    "    \n",
    "    print(f\"Processing: {corrected_file}\")\n",
    "    \n",
    "    # Perform skull stripping\n",
    "    success = skull_strip_with_hdbet(input_path, output_path, use_gpu=gpu_available)\n",
    "    \n",
    "    if success:\n",
    "        successful_count += 1\n",
    "    else:\n",
    "        failed_count += 1\n",
    "\n",
    "print(f\"\\n=== Skull Stripping Summary ===\")\n",
    "print(f\"✓ Successfully processed: {successful_count} scans\")\n",
    "print(f\"✗ Failed: {failed_count} scans\")\n",
    "print(f\"Skull-stripped images saved in: {skull_stripped_output_dir}\")"
   ]
  }
 ],
 "metadata": {
  "accelerator": "GPU",
  "colab": {
   "gpuType": "T4",
   "include_colab_link": true,
   "provenance": []
  },
  "kaggle": {
   "accelerator": "gpu",
   "dataSources": [
    {
     "datasetId": 7741510,
     "sourceId": 12283891,
     "sourceType": "datasetVersion"
    }
   ],
   "dockerImageVersionId": 31041,
   "isGpuEnabled": true,
   "isInternetEnabled": true,
   "language": "python",
   "sourceType": "notebook"
  },
  "kernelspec": {
   "display_name": "aims_venv",
   "language": "python",
   "name": "python3"
  },
  "language_info": {
   "codemirror_mode": {
    "name": "ipython",
    "version": 3
   },
   "file_extension": ".py",
   "mimetype": "text/x-python",
   "name": "python",
   "nbconvert_exporter": "python",
   "pygments_lexer": "ipython3",
   "version": "3.12.10"
  }
 },
 "nbformat": 4,
 "nbformat_minor": 5
}
