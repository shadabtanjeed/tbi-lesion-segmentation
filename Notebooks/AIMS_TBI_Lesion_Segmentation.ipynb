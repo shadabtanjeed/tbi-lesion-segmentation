{
  "cells": [
    {
      "cell_type": "markdown",
      "metadata": {
        "id": "view-in-github",
        "colab_type": "text"
      },
      "source": [
        "<a href=\"https://colab.research.google.com/github/shadabtanjeed/tbi-lesion-segmentation/blob/main/AIMS_TBI_Lesion_Segmentation.ipynb\" target=\"_parent\"><img src=\"https://colab.research.google.com/assets/colab-badge.svg\" alt=\"Open In Colab\"/></a>"
      ]
    },
    {
      "cell_type": "markdown",
      "metadata": {
        "id": "QVmBRlhvxvYe"
      },
      "source": [
        "# AIMS - TBI Lesion Segmentation\n"
      ]
    },
    {
      "cell_type": "code",
      "source": [
        "# !pip install -q nibabel matplotlib"
      ],
      "metadata": {
        "id": "ManedmqNyZw_"
      },
      "execution_count": 43,
      "outputs": []
    },
    {
      "cell_type": "code",
      "source": [
        "import os\n",
        "import nibabel as nib\n",
        "import matplotlib.pyplot as plt\n",
        "from google.colab import drive\n",
        "import numpy as np"
      ],
      "metadata": {
        "id": "aZIKUfqsyTAr"
      },
      "execution_count": 44,
      "outputs": []
    },
    {
      "cell_type": "markdown",
      "source": [
        "## Import data"
      ],
      "metadata": {
        "id": "YwcOR23yyeO7"
      }
    },
    {
      "cell_type": "code",
      "execution_count": 45,
      "metadata": {
        "colab": {
          "base_uri": "https://localhost:8080/"
        },
        "id": "lZQ87lSaxvYh",
        "outputId": "bae56611-d8ac-4241-d779-9e56249c932d"
      },
      "outputs": [
        {
          "output_type": "stream",
          "name": "stdout",
          "text": [
            "Drive already mounted at /content/drive; to attempt to forcibly remount, call drive.mount(\"/content/drive\", force_remount=True).\n"
          ]
        }
      ],
      "source": [
        "drive.mount('/content/drive')"
      ]
    },
    {
      "cell_type": "code",
      "execution_count": 46,
      "metadata": {
        "colab": {
          "base_uri": "https://localhost:8080/"
        },
        "id": "RbyQI2f3xvYi",
        "outputId": "5bb520bb-5a4e-4eab-effa-982442361475"
      },
      "outputs": [
        {
          "output_type": "stream",
          "name": "stdout",
          "text": [
            "Found 1105 nii files\n",
            "['scan_0001_Lesion.nii', 'scan_0001_T1.nii', 'scan_0004_Lesion.nii', 'scan_0004_T1.nii', 'scan_0007_Lesion.nii']\n"
          ]
        }
      ],
      "source": [
        "data_path = \"/content/drive/My Drive/AIMS - TBI Lesion Segmentation/ChallengeFiles\"\n",
        "file_list = sorted([f for f in os.listdir(data_path) if f.endswith('.nii')])\n",
        "print(f\"Found {len(file_list)} nii files\")\n",
        "print(file_list[:5])  # Show first 5 files"
      ]
    },
    {
      "cell_type": "markdown",
      "source": [
        "## Visualize .nii files"
      ],
      "metadata": {
        "id": "HK9icS2Yyltb"
      }
    },
    {
      "cell_type": "code",
      "execution_count": 47,
      "metadata": {
        "colab": {
          "base_uri": "https://localhost:8080/"
        },
        "id": "dBStg1ugxvYj",
        "outputId": "3fe86a7e-1a6b-4424-d666-b8fb704934e8"
      },
      "outputs": [
        {
          "output_type": "stream",
          "name": "stdout",
          "text": [
            "Loaded file: scan_0001_Lesion.nii\n",
            "Image shape: (256, 256, 256)\n"
          ]
        }
      ],
      "source": [
        "nii_file = os.path.join(data_path, file_list[0])\n",
        "img = nib.load(nii_file)\n",
        "img_data = img.get_fdata()\n",
        "\n",
        "print(f\"Loaded file: {file_list[0]}\")\n",
        "print(f\"Image shape: {img_data.shape}\")\n",
        "\n",
        "# Intensity normalization function for visualization\n",
        "def normalize_slice(slice_data):\n",
        "    slice_min = slice_data.min()\n",
        "    slice_max = slice_data.max()\n",
        "    if slice_max - slice_min > 0:\n",
        "        return (slice_data - slice_min) / (slice_max - slice_min)\n",
        "    else:\n",
        "        return slice_data  # In case slice is constant"
      ]
    },
    {
      "cell_type": "code",
      "source": [
        "num_slices = 5\n",
        "fig, axes = plt.subplots(1, num_slices, figsize=(15, 5))\n",
        "\n",
        "# Random unique slice indices from the axial dimension (depth)\n",
        "slice_indices = np.random.choice(img_data.shape[2], size=num_slices, replace=False)\n",
        "slice_indices = np.sort(slice_indices)  # optional: sort for nicer display order\n",
        "\n",
        "for i, slice_idx in enumerate(slice_indices):\n",
        "    slice_img = img_data[:, :, slice_idx].T\n",
        "    norm_img = normalize_slice(slice_img)\n",
        "    axes[i].imshow(norm_img, cmap='gray', origin='lower')\n",
        "    axes[i].set_title(f\"Slice {slice_idx}\")\n",
        "    axes[i].axis('off')\n",
        "\n",
        "plt.show()"
      ],
      "metadata": {
        "colab": {
          "base_uri": "https://localhost:8080/",
          "height": 259
        },
        "id": "Z4HOvZs3zYia",
        "outputId": "2c1898bf-57da-4749-e1cd-1d27ee3ad663"
      },
      "execution_count": 48,
      "outputs": [
        {
          "output_type": "display_data",
          "data": {
            "text/plain": [
              "<Figure size 1500x500 with 5 Axes>"
            ],
            "image/png": "[encoded data removed]"
          },
          "metadata": {}
        }
      ]
    },
    {
      "cell_type": "markdown",
      "source": [
        "### Visualize coronal and sagittal slice"
      ],
      "metadata": {
        "id": "HAuibC1hyrfM"
      }
    },
    {
      "cell_type": "code",
      "execution_count": 49,
      "metadata": {
        "colab": {
          "base_uri": "https://localhost:8080/",
          "height": 839
        },
        "id": "Jc8S6-h6xvYj",
        "outputId": "957ff6ee-f005-4d9d-aa61-db4a42d61816"
      },
      "outputs": [
        {
          "output_type": "display_data",
          "data": {
            "text/plain": [
              "<Figure size 640x480 with 1 Axes>"
            ],
            "image/png": "[encoded data removed]"
          },
          "metadata": {}
        },
        {
          "output_type": "display_data",
          "data": {
            "text/plain": [
              "<Figure size 640x480 with 1 Axes>"
            ],
            "image/png": "[encoded data removed]"
          },
          "metadata": {}
        }
      ],
      "source": [
        "# Coronal slice (YZ plane)\n",
        "slice_idx = img_data.shape[0] // 2\n",
        "coronal_slice = normalize_slice(img_data[slice_idx, :, :].T)\n",
        "plt.imshow(coronal_slice, cmap='gray', origin='lower')\n",
        "plt.title(f\"Coronal slice {slice_idx}\")\n",
        "plt.axis('off')\n",
        "plt.show()\n",
        "\n",
        "# Sagittal slice (XZ plane)\n",
        "slice_idx = img_data.shape[1] // 2\n",
        "sagittal_slice = normalize_slice(img_data[:, slice_idx, :].T)\n",
        "plt.imshow(sagittal_slice, cmap='gray', origin='lower')\n",
        "plt.title(f\"Sagittal slice {slice_idx}\")\n",
        "plt.axis('off')\n",
        "plt.show()\n"
      ]
    },
    {
      "cell_type": "markdown",
      "source": [
        "### Check intensity distribution and non-zero voxel stats"
      ],
      "metadata": {
        "id": "WU3qtQp2zegd"
      }
    },
    {
      "cell_type": "code",
      "source": [
        "plt.hist(img_data.flatten(), bins=100)\n",
        "plt.title(\"Histogram of image intensities\")\n",
        "plt.show()\n",
        "\n",
        "nonzero_voxels = np.count_nonzero(img_data)\n",
        "total_voxels = img_data.size\n",
        "print(f\"Non-zero voxels: {nonzero_voxels} / {total_voxels} ({100*nonzero_voxels/total_voxels:.2f}%)\")\n"
      ],
      "metadata": {
        "colab": {
          "base_uri": "https://localhost:8080/",
          "height": 469
        },
        "id": "XFX3SGX0yEig",
        "outputId": "c584cc41-c144-41d2-b5d1-32ae6aa2ed29"
      },
      "execution_count": 50,
      "outputs": [
        {
          "output_type": "display_data",
          "data": {
            "text/plain": [
              "<Figure size 640x480 with 1 Axes>"
            ],
            "image/png": "[encoded data removed]"
          },
          "metadata": {}
        },
        {
          "output_type": "stream",
          "name": "stdout",
          "text": [
            "Non-zero voxels: 2150 / 16777216 (0.01%)\n"
          ]
        }
      ]
    }
  ],
  "metadata": {
    "colab": {
      "provenance": [],
      "include_colab_link": true
    },
    "kernelspec": {
      "name": "python3",
      "display_name": "Python 3"
    },
    "language_info": {
      "name": "python"
    }
  },
  "nbformat": 4,
  "nbformat_minor": 0
}